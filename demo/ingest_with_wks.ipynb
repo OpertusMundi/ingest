{
 "cells": [
  {
   "cell_type": "markdown",
   "metadata": {},
   "source": [
    "# Import Necessary Libraries"
   ]
  },
  {
   "cell_type": "code",
   "execution_count": 1,
   "metadata": {
    "collapsed": true
   },
   "outputs": [],
   "source": [
    "import pandas as pd\n",
    "from wks_utils import TopioWKSIngest"
   ]
  },
  {
   "cell_type": "markdown",
   "metadata": {},
   "source": [
    "# Read the OSM POIs to ingest"
   ]
  },
  {
   "cell_type": "code",
   "execution_count": 2,
   "metadata": {},
   "outputs": [],
   "source": [
    "osm_pois_df = pd.read_csv('osm20_pois_corfu.csv', sep='|')"
   ]
  },
  {
   "cell_type": "code",
   "execution_count": 3,
   "metadata": {},
   "outputs": [
    {
     "data": {
      "text/plain": "           osm_id                              name category         type  \\\n0     N1029715504                          Pool Bar     FOOD          BAR   \n1     N1029715509  Convenience Strore Marina Gouvia     SHOP  CONVENIENCE   \n2     N1029715541                          Pool Bar     FOOD          BAR   \n3     N1085861173                Athena Supermarket     SHOP  CONVENIENCE   \n4     N1088014445                       Sunrise Bar     FOOD          BAR   \n...           ...                               ...      ...          ...   \n1809    W94157483               Ναός Ευαγγελίστριας      POW    CHRISTIAN   \n1810    W94157484             Ναός Υ. Θ. Οδηγητρίας      POW    CHRISTIAN   \n1811    W94157485                    Άγιος Αρσένιος      POW    CHRISTIAN   \n1812    W94157489               Ναός Αγίων Θεοδώρων      POW    CHRISTIAN   \n1813    W96578719                     Pelekas beach  TOURIST        BEACH   \n\n            lon        lat alt_name int_name street housenumber  ...  fax  \\\n0     19.829637  39.651711      NaN      NaN    NaN         NaN  ...  NaN   \n1     19.854266  39.647386      NaN      NaN    NaN         NaN  ...  NaN   \n2     19.855186  39.647694      NaN      NaN    NaN         NaN  ...  NaN   \n3     19.736595  39.671256      NaN      NaN    NaN         NaN  ...  NaN   \n4     20.096480  39.407453      NaN      NaN    NaN         NaN  ...  NaN   \n...         ...        ...      ...      ...    ...         ...  ...  ...   \n1809  20.077798  39.421260      NaN      NaN    NaN         NaN  ...  NaN   \n1810  20.069492  39.423205      NaN      NaN    NaN         NaN  ...  NaN   \n1811  20.064120  39.423536      NaN      NaN    NaN         NaN  ...  NaN   \n1812  20.073204  39.423109      NaN      NaN    NaN         NaN  ...  NaN   \n1813  19.819417  39.584318      NaN      NaN    NaN         NaN  ...  NaN   \n\n     email website opening_hours description image last_update operator  \\\n0      NaN     NaN           NaN         NaN   NaN         NaN      NaN   \n1      NaN     NaN           NaN         NaN   NaN         NaN      NaN   \n2      NaN     NaN           NaN         NaN   NaN         NaN      NaN   \n3      NaN     NaN           NaN         NaN   NaN         NaN      NaN   \n4      NaN     NaN           NaN         NaN   NaN         NaN      NaN   \n...    ...     ...           ...         ...   ...         ...      ...   \n1809   NaN     NaN           NaN         NaN   NaN         NaN      NaN   \n1810   NaN     NaN           NaN         NaN   NaN         NaN      NaN   \n1811   NaN     NaN           NaN         NaN   NaN         NaN      NaN   \n1812   NaN     NaN           NaN         NaN   NaN         NaN      NaN   \n1813   NaN     NaN           NaN         NaN   NaN         NaN      NaN   \n\n     wikipedia                                                wkt  \n0          NaN                       POINT(19.8296369 39.6517114)  \n1          NaN                       POINT(19.8542664 39.6473859)  \n2          NaN                       POINT(19.8551864 39.6476937)  \n3          NaN                        POINT(19.736595 39.6712563)  \n4          NaN                       POINT(20.0964796 39.4074531)  \n...        ...                                                ...  \n1809       NaN  MULTIPOLYGON(((20.0776678 39.4213156,20.077940...  \n1810       NaN  MULTIPOLYGON(((20.0693893 39.4232501,20.069602...  \n1811       NaN  MULTIPOLYGON(((20.064032 39.4236303,20.0642696...  \n1812       NaN  MULTIPOLYGON(((20.0731079 39.4231635,20.073317...  \n1813       NaN  MULTIPOLYGON(((19.8207844 39.5827619,19.820814...  \n\n[1814 rows x 24 columns]",
      "text/html": "<div>\n<style scoped>\n    .dataframe tbody tr th:only-of-type {\n        vertical-align: middle;\n    }\n\n    .dataframe tbody tr th {\n        vertical-align: top;\n    }\n\n    .dataframe thead th {\n        text-align: right;\n    }\n</style>\n<table border=\"1\" class=\"dataframe\">\n  <thead>\n    <tr style=\"text-align: right;\">\n      <th></th>\n      <th>osm_id</th>\n      <th>name</th>\n      <th>category</th>\n      <th>type</th>\n      <th>lon</th>\n      <th>lat</th>\n      <th>alt_name</th>\n      <th>int_name</th>\n      <th>street</th>\n      <th>housenumber</th>\n      <th>...</th>\n      <th>fax</th>\n      <th>email</th>\n      <th>website</th>\n      <th>opening_hours</th>\n      <th>description</th>\n      <th>image</th>\n      <th>last_update</th>\n      <th>operator</th>\n      <th>wikipedia</th>\n      <th>wkt</th>\n    </tr>\n  </thead>\n  <tbody>\n    <tr>\n      <th>0</th>\n      <td>N1029715504</td>\n      <td>Pool Bar</td>\n      <td>FOOD</td>\n      <td>BAR</td>\n      <td>19.829637</td>\n      <td>39.651711</td>\n      <td>NaN</td>\n      <td>NaN</td>\n      <td>NaN</td>\n      <td>NaN</td>\n      <td>...</td>\n      <td>NaN</td>\n      <td>NaN</td>\n      <td>NaN</td>\n      <td>NaN</td>\n      <td>NaN</td>\n      <td>NaN</td>\n      <td>NaN</td>\n      <td>NaN</td>\n      <td>NaN</td>\n      <td>POINT(19.8296369 39.6517114)</td>\n    </tr>\n    <tr>\n      <th>1</th>\n      <td>N1029715509</td>\n      <td>Convenience Strore Marina Gouvia</td>\n      <td>SHOP</td>\n      <td>CONVENIENCE</td>\n      <td>19.854266</td>\n      <td>39.647386</td>\n      <td>NaN</td>\n      <td>NaN</td>\n      <td>NaN</td>\n      <td>NaN</td>\n      <td>...</td>\n      <td>NaN</td>\n      <td>NaN</td>\n      <td>NaN</td>\n      <td>NaN</td>\n      <td>NaN</td>\n      <td>NaN</td>\n      <td>NaN</td>\n      <td>NaN</td>\n      <td>NaN</td>\n      <td>POINT(19.8542664 39.6473859)</td>\n    </tr>\n    <tr>\n      <th>2</th>\n      <td>N1029715541</td>\n      <td>Pool Bar</td>\n      <td>FOOD</td>\n      <td>BAR</td>\n      <td>19.855186</td>\n      <td>39.647694</td>\n      <td>NaN</td>\n      <td>NaN</td>\n      <td>NaN</td>\n      <td>NaN</td>\n      <td>...</td>\n      <td>NaN</td>\n      <td>NaN</td>\n      <td>NaN</td>\n      <td>NaN</td>\n      <td>NaN</td>\n      <td>NaN</td>\n      <td>NaN</td>\n      <td>NaN</td>\n      <td>NaN</td>\n      <td>POINT(19.8551864 39.6476937)</td>\n    </tr>\n    <tr>\n      <th>3</th>\n      <td>N1085861173</td>\n      <td>Athena Supermarket</td>\n      <td>SHOP</td>\n      <td>CONVENIENCE</td>\n      <td>19.736595</td>\n      <td>39.671256</td>\n      <td>NaN</td>\n      <td>NaN</td>\n      <td>NaN</td>\n      <td>NaN</td>\n      <td>...</td>\n      <td>NaN</td>\n      <td>NaN</td>\n      <td>NaN</td>\n      <td>NaN</td>\n      <td>NaN</td>\n      <td>NaN</td>\n      <td>NaN</td>\n      <td>NaN</td>\n      <td>NaN</td>\n      <td>POINT(19.736595 39.6712563)</td>\n    </tr>\n    <tr>\n      <th>4</th>\n      <td>N1088014445</td>\n      <td>Sunrise Bar</td>\n      <td>FOOD</td>\n      <td>BAR</td>\n      <td>20.096480</td>\n      <td>39.407453</td>\n      <td>NaN</td>\n      <td>NaN</td>\n      <td>NaN</td>\n      <td>NaN</td>\n      <td>...</td>\n      <td>NaN</td>\n      <td>NaN</td>\n      <td>NaN</td>\n      <td>NaN</td>\n      <td>NaN</td>\n      <td>NaN</td>\n      <td>NaN</td>\n      <td>NaN</td>\n      <td>NaN</td>\n      <td>POINT(20.0964796 39.4074531)</td>\n    </tr>\n    <tr>\n      <th>...</th>\n      <td>...</td>\n      <td>...</td>\n      <td>...</td>\n      <td>...</td>\n      <td>...</td>\n      <td>...</td>\n      <td>...</td>\n      <td>...</td>\n      <td>...</td>\n      <td>...</td>\n      <td>...</td>\n      <td>...</td>\n      <td>...</td>\n      <td>...</td>\n      <td>...</td>\n      <td>...</td>\n      <td>...</td>\n      <td>...</td>\n      <td>...</td>\n      <td>...</td>\n      <td>...</td>\n    </tr>\n    <tr>\n      <th>1809</th>\n      <td>W94157483</td>\n      <td>Ναός Ευαγγελίστριας</td>\n      <td>POW</td>\n      <td>CHRISTIAN</td>\n      <td>20.077798</td>\n      <td>39.421260</td>\n      <td>NaN</td>\n      <td>NaN</td>\n      <td>NaN</td>\n      <td>NaN</td>\n      <td>...</td>\n      <td>NaN</td>\n      <td>NaN</td>\n      <td>NaN</td>\n      <td>NaN</td>\n      <td>NaN</td>\n      <td>NaN</td>\n      <td>NaN</td>\n      <td>NaN</td>\n      <td>NaN</td>\n      <td>MULTIPOLYGON(((20.0776678 39.4213156,20.077940...</td>\n    </tr>\n    <tr>\n      <th>1810</th>\n      <td>W94157484</td>\n      <td>Ναός Υ. Θ. Οδηγητρίας</td>\n      <td>POW</td>\n      <td>CHRISTIAN</td>\n      <td>20.069492</td>\n      <td>39.423205</td>\n      <td>NaN</td>\n      <td>NaN</td>\n      <td>NaN</td>\n      <td>NaN</td>\n      <td>...</td>\n      <td>NaN</td>\n      <td>NaN</td>\n      <td>NaN</td>\n      <td>NaN</td>\n      <td>NaN</td>\n      <td>NaN</td>\n      <td>NaN</td>\n      <td>NaN</td>\n      <td>NaN</td>\n      <td>MULTIPOLYGON(((20.0693893 39.4232501,20.069602...</td>\n    </tr>\n    <tr>\n      <th>1811</th>\n      <td>W94157485</td>\n      <td>Άγιος Αρσένιος</td>\n      <td>POW</td>\n      <td>CHRISTIAN</td>\n      <td>20.064120</td>\n      <td>39.423536</td>\n      <td>NaN</td>\n      <td>NaN</td>\n      <td>NaN</td>\n      <td>NaN</td>\n      <td>...</td>\n      <td>NaN</td>\n      <td>NaN</td>\n      <td>NaN</td>\n      <td>NaN</td>\n      <td>NaN</td>\n      <td>NaN</td>\n      <td>NaN</td>\n      <td>NaN</td>\n      <td>NaN</td>\n      <td>MULTIPOLYGON(((20.064032 39.4236303,20.0642696...</td>\n    </tr>\n    <tr>\n      <th>1812</th>\n      <td>W94157489</td>\n      <td>Ναός Αγίων Θεοδώρων</td>\n      <td>POW</td>\n      <td>CHRISTIAN</td>\n      <td>20.073204</td>\n      <td>39.423109</td>\n      <td>NaN</td>\n      <td>NaN</td>\n      <td>NaN</td>\n      <td>NaN</td>\n      <td>...</td>\n      <td>NaN</td>\n      <td>NaN</td>\n      <td>NaN</td>\n      <td>NaN</td>\n      <td>NaN</td>\n      <td>NaN</td>\n      <td>NaN</td>\n      <td>NaN</td>\n      <td>NaN</td>\n      <td>MULTIPOLYGON(((20.0731079 39.4231635,20.073317...</td>\n    </tr>\n    <tr>\n      <th>1813</th>\n      <td>W96578719</td>\n      <td>Pelekas beach</td>\n      <td>TOURIST</td>\n      <td>BEACH</td>\n      <td>19.819417</td>\n      <td>39.584318</td>\n      <td>NaN</td>\n      <td>NaN</td>\n      <td>NaN</td>\n      <td>NaN</td>\n      <td>...</td>\n      <td>NaN</td>\n      <td>NaN</td>\n      <td>NaN</td>\n      <td>NaN</td>\n      <td>NaN</td>\n      <td>NaN</td>\n      <td>NaN</td>\n      <td>NaN</td>\n      <td>NaN</td>\n      <td>MULTIPOLYGON(((19.8207844 39.5827619,19.820814...</td>\n    </tr>\n  </tbody>\n</table>\n<p>1814 rows × 24 columns</p>\n</div>"
     },
     "execution_count": 3,
     "metadata": {},
     "output_type": "execute_result"
    }
   ],
   "source": [
    "osm_pois_df"
   ]
  },
  {
   "cell_type": "markdown",
   "metadata": {},
   "source": [
    "# Start Topio Ingest and collect schema similarities"
   ]
  },
  {
   "cell_type": "code",
   "execution_count": 4,
   "metadata": {},
   "outputs": [],
   "source": [
    "topio_ingest = TopioWKSIngest(threshold=0.6)\n",
    "topio_ingest.calculate_schema_similarities(osm_pois_df)"
   ]
  },
  {
   "cell_type": "code",
   "execution_count": 5,
   "metadata": {},
   "outputs": [
    {
     "data": {
      "text/plain": "{'osm_pois.yml': 0.88,\n 'tomtom_premium.yml': 0.17,\n 'herold_yellow_pages.yml': 0.04,\n 'tomtom_road.yml': 0.04,\n 'tomtom_sm.yml': 0.04,\n 'nuts.yml': 0.0}"
     },
     "execution_count": 5,
     "metadata": {},
     "output_type": "execute_result"
    }
   ],
   "source": [
    "topio_ingest.get_schema_similarities()"
   ]
  },
  {
   "cell_type": "markdown",
   "metadata": {},
   "source": [
    "# Automatically Ingest Based on Maximum Similarity"
   ]
  },
  {
   "cell_type": "code",
   "execution_count": 6,
   "metadata": {},
   "outputs": [
    {
     "data": {
      "text/plain": "       ID                              NAME CATEGORY SUBCATEGORY        LON  \\\n0     NaN                          Pool Bar     FOOD         NaN  19.829637   \n1     NaN  Convenience Strore Marina Gouvia     SHOP         NaN  19.854266   \n2     NaN                          Pool Bar     FOOD         NaN  19.855186   \n3     NaN                Athena Supermarket     SHOP         NaN  19.736595   \n4     NaN                       Sunrise Bar     FOOD         NaN  20.096480   \n...   ...                               ...      ...         ...        ...   \n1809  NaN               Ναός Ευαγγελίστριας      POW         NaN  20.077798   \n1810  NaN             Ναός Υ. Θ. Οδηγητρίας      POW         NaN  20.069492   \n1811  NaN                    Άγιος Αρσένιος      POW         NaN  20.064120   \n1812  NaN               Ναός Αγίων Θεοδώρων      POW         NaN  20.073204   \n1813  NaN                     Pelekas beach  TOURIST         NaN  19.819417   \n\n            LAT SRID INTERNATIONAL_NAME STREET WIKIPEDIA  ... DESCRIPTION  \\\n0     39.651711  NaN                NaN    NaN       NaN  ...         NaN   \n1     39.647386  NaN                NaN    NaN       NaN  ...         NaN   \n2     39.647694  NaN                NaN    NaN       NaN  ...         NaN   \n3     39.671256  NaN                NaN    NaN       NaN  ...         NaN   \n4     39.407453  NaN                NaN    NaN       NaN  ...         NaN   \n...         ...  ...                ...    ...       ...  ...         ...   \n1809  39.421260  NaN                NaN    NaN       NaN  ...         NaN   \n1810  39.423205  NaN                NaN    NaN       NaN  ...         NaN   \n1811  39.423536  NaN                NaN    NaN       NaN  ...         NaN   \n1812  39.423109  NaN                NaN    NaN       NaN  ...         NaN   \n1813  39.584318  NaN                NaN    NaN       NaN  ...         NaN   \n\n     WEBSITE LAST_UPDATE OPERATOR POSTCODE COUNTRY  FAX  IMAGE HOUSENUMBER  \\\n0        NaN         NaN      NaN      NaN     NaN  NaN    NaN         NaN   \n1        NaN         NaN      NaN      NaN     NaN  NaN    NaN         NaN   \n2        NaN         NaN      NaN      NaN     NaN  NaN    NaN         NaN   \n3        NaN         NaN      NaN      NaN     NaN  NaN    NaN         NaN   \n4        NaN         NaN      NaN      NaN     NaN  NaN    NaN         NaN   \n...      ...         ...      ...      ...     ...  ...    ...         ...   \n1809     NaN         NaN      NaN      NaN     NaN  NaN    NaN         NaN   \n1810     NaN         NaN      NaN      NaN     NaN  NaN    NaN         NaN   \n1811     NaN         NaN      NaN      NaN     NaN  NaN    NaN         NaN   \n1812     NaN         NaN      NaN      NaN     NaN  NaN    NaN         NaN   \n1813     NaN         NaN      NaN      NaN     NaN  NaN    NaN         NaN   \n\n     OTHER_TAGS  \n0           NaN  \n1           NaN  \n2           NaN  \n3           NaN  \n4           NaN  \n...         ...  \n1809        NaN  \n1810        NaN  \n1811        NaN  \n1812        NaN  \n1813        NaN  \n\n[1814 rows x 25 columns]",
      "text/html": "<div>\n<style scoped>\n    .dataframe tbody tr th:only-of-type {\n        vertical-align: middle;\n    }\n\n    .dataframe tbody tr th {\n        vertical-align: top;\n    }\n\n    .dataframe thead th {\n        text-align: right;\n    }\n</style>\n<table border=\"1\" class=\"dataframe\">\n  <thead>\n    <tr style=\"text-align: right;\">\n      <th></th>\n      <th>ID</th>\n      <th>NAME</th>\n      <th>CATEGORY</th>\n      <th>SUBCATEGORY</th>\n      <th>LON</th>\n      <th>LAT</th>\n      <th>SRID</th>\n      <th>INTERNATIONAL_NAME</th>\n      <th>STREET</th>\n      <th>WIKIPEDIA</th>\n      <th>...</th>\n      <th>DESCRIPTION</th>\n      <th>WEBSITE</th>\n      <th>LAST_UPDATE</th>\n      <th>OPERATOR</th>\n      <th>POSTCODE</th>\n      <th>COUNTRY</th>\n      <th>FAX</th>\n      <th>IMAGE</th>\n      <th>HOUSENUMBER</th>\n      <th>OTHER_TAGS</th>\n    </tr>\n  </thead>\n  <tbody>\n    <tr>\n      <th>0</th>\n      <td>NaN</td>\n      <td>Pool Bar</td>\n      <td>FOOD</td>\n      <td>NaN</td>\n      <td>19.829637</td>\n      <td>39.651711</td>\n      <td>NaN</td>\n      <td>NaN</td>\n      <td>NaN</td>\n      <td>NaN</td>\n      <td>...</td>\n      <td>NaN</td>\n      <td>NaN</td>\n      <td>NaN</td>\n      <td>NaN</td>\n      <td>NaN</td>\n      <td>NaN</td>\n      <td>NaN</td>\n      <td>NaN</td>\n      <td>NaN</td>\n      <td>NaN</td>\n    </tr>\n    <tr>\n      <th>1</th>\n      <td>NaN</td>\n      <td>Convenience Strore Marina Gouvia</td>\n      <td>SHOP</td>\n      <td>NaN</td>\n      <td>19.854266</td>\n      <td>39.647386</td>\n      <td>NaN</td>\n      <td>NaN</td>\n      <td>NaN</td>\n      <td>NaN</td>\n      <td>...</td>\n      <td>NaN</td>\n      <td>NaN</td>\n      <td>NaN</td>\n      <td>NaN</td>\n      <td>NaN</td>\n      <td>NaN</td>\n      <td>NaN</td>\n      <td>NaN</td>\n      <td>NaN</td>\n      <td>NaN</td>\n    </tr>\n    <tr>\n      <th>2</th>\n      <td>NaN</td>\n      <td>Pool Bar</td>\n      <td>FOOD</td>\n      <td>NaN</td>\n      <td>19.855186</td>\n      <td>39.647694</td>\n      <td>NaN</td>\n      <td>NaN</td>\n      <td>NaN</td>\n      <td>NaN</td>\n      <td>...</td>\n      <td>NaN</td>\n      <td>NaN</td>\n      <td>NaN</td>\n      <td>NaN</td>\n      <td>NaN</td>\n      <td>NaN</td>\n      <td>NaN</td>\n      <td>NaN</td>\n      <td>NaN</td>\n      <td>NaN</td>\n    </tr>\n    <tr>\n      <th>3</th>\n      <td>NaN</td>\n      <td>Athena Supermarket</td>\n      <td>SHOP</td>\n      <td>NaN</td>\n      <td>19.736595</td>\n      <td>39.671256</td>\n      <td>NaN</td>\n      <td>NaN</td>\n      <td>NaN</td>\n      <td>NaN</td>\n      <td>...</td>\n      <td>NaN</td>\n      <td>NaN</td>\n      <td>NaN</td>\n      <td>NaN</td>\n      <td>NaN</td>\n      <td>NaN</td>\n      <td>NaN</td>\n      <td>NaN</td>\n      <td>NaN</td>\n      <td>NaN</td>\n    </tr>\n    <tr>\n      <th>4</th>\n      <td>NaN</td>\n      <td>Sunrise Bar</td>\n      <td>FOOD</td>\n      <td>NaN</td>\n      <td>20.096480</td>\n      <td>39.407453</td>\n      <td>NaN</td>\n      <td>NaN</td>\n      <td>NaN</td>\n      <td>NaN</td>\n      <td>...</td>\n      <td>NaN</td>\n      <td>NaN</td>\n      <td>NaN</td>\n      <td>NaN</td>\n      <td>NaN</td>\n      <td>NaN</td>\n      <td>NaN</td>\n      <td>NaN</td>\n      <td>NaN</td>\n      <td>NaN</td>\n    </tr>\n    <tr>\n      <th>...</th>\n      <td>...</td>\n      <td>...</td>\n      <td>...</td>\n      <td>...</td>\n      <td>...</td>\n      <td>...</td>\n      <td>...</td>\n      <td>...</td>\n      <td>...</td>\n      <td>...</td>\n      <td>...</td>\n      <td>...</td>\n      <td>...</td>\n      <td>...</td>\n      <td>...</td>\n      <td>...</td>\n      <td>...</td>\n      <td>...</td>\n      <td>...</td>\n      <td>...</td>\n      <td>...</td>\n    </tr>\n    <tr>\n      <th>1809</th>\n      <td>NaN</td>\n      <td>Ναός Ευαγγελίστριας</td>\n      <td>POW</td>\n      <td>NaN</td>\n      <td>20.077798</td>\n      <td>39.421260</td>\n      <td>NaN</td>\n      <td>NaN</td>\n      <td>NaN</td>\n      <td>NaN</td>\n      <td>...</td>\n      <td>NaN</td>\n      <td>NaN</td>\n      <td>NaN</td>\n      <td>NaN</td>\n      <td>NaN</td>\n      <td>NaN</td>\n      <td>NaN</td>\n      <td>NaN</td>\n      <td>NaN</td>\n      <td>NaN</td>\n    </tr>\n    <tr>\n      <th>1810</th>\n      <td>NaN</td>\n      <td>Ναός Υ. Θ. Οδηγητρίας</td>\n      <td>POW</td>\n      <td>NaN</td>\n      <td>20.069492</td>\n      <td>39.423205</td>\n      <td>NaN</td>\n      <td>NaN</td>\n      <td>NaN</td>\n      <td>NaN</td>\n      <td>...</td>\n      <td>NaN</td>\n      <td>NaN</td>\n      <td>NaN</td>\n      <td>NaN</td>\n      <td>NaN</td>\n      <td>NaN</td>\n      <td>NaN</td>\n      <td>NaN</td>\n      <td>NaN</td>\n      <td>NaN</td>\n    </tr>\n    <tr>\n      <th>1811</th>\n      <td>NaN</td>\n      <td>Άγιος Αρσένιος</td>\n      <td>POW</td>\n      <td>NaN</td>\n      <td>20.064120</td>\n      <td>39.423536</td>\n      <td>NaN</td>\n      <td>NaN</td>\n      <td>NaN</td>\n      <td>NaN</td>\n      <td>...</td>\n      <td>NaN</td>\n      <td>NaN</td>\n      <td>NaN</td>\n      <td>NaN</td>\n      <td>NaN</td>\n      <td>NaN</td>\n      <td>NaN</td>\n      <td>NaN</td>\n      <td>NaN</td>\n      <td>NaN</td>\n    </tr>\n    <tr>\n      <th>1812</th>\n      <td>NaN</td>\n      <td>Ναός Αγίων Θεοδώρων</td>\n      <td>POW</td>\n      <td>NaN</td>\n      <td>20.073204</td>\n      <td>39.423109</td>\n      <td>NaN</td>\n      <td>NaN</td>\n      <td>NaN</td>\n      <td>NaN</td>\n      <td>...</td>\n      <td>NaN</td>\n      <td>NaN</td>\n      <td>NaN</td>\n      <td>NaN</td>\n      <td>NaN</td>\n      <td>NaN</td>\n      <td>NaN</td>\n      <td>NaN</td>\n      <td>NaN</td>\n      <td>NaN</td>\n    </tr>\n    <tr>\n      <th>1813</th>\n      <td>NaN</td>\n      <td>Pelekas beach</td>\n      <td>TOURIST</td>\n      <td>NaN</td>\n      <td>19.819417</td>\n      <td>39.584318</td>\n      <td>NaN</td>\n      <td>NaN</td>\n      <td>NaN</td>\n      <td>NaN</td>\n      <td>...</td>\n      <td>NaN</td>\n      <td>NaN</td>\n      <td>NaN</td>\n      <td>NaN</td>\n      <td>NaN</td>\n      <td>NaN</td>\n      <td>NaN</td>\n      <td>NaN</td>\n      <td>NaN</td>\n      <td>NaN</td>\n    </tr>\n  </tbody>\n</table>\n<p>1814 rows × 25 columns</p>\n</div>"
     },
     "execution_count": 6,
     "metadata": {},
     "output_type": "execute_result"
    }
   ],
   "source": [
    "ingested_df, mappings = topio_ingest.ingest_with_max_similarity()\n",
    "ingested_df"
   ]
  },
  {
   "cell_type": "markdown",
   "source": [
    "## Column Mappings"
   ],
   "metadata": {
    "collapsed": false
   }
  },
  {
   "cell_type": "code",
   "execution_count": 7,
   "outputs": [
    {
     "data": {
      "text/plain": "              Ingested       Original\n0        OPENING_HOURS  opening_hours\n1          DESCRIPTION    description\n2          LAST_UPDATE    last_update\n3          HOUSENUMBER    housenumber\n4            WIKIPEDIA      wikipedia\n5             CATEGORY       category\n6             OPERATOR       operator\n7             POSTCODE       postcode\n8              WEBSITE        website\n9              COUNTRY        country\n10              STREET         street\n11               PHONE          phone\n12               EMAIL          email\n13               IMAGE          image\n14                NAME           name\n15                CITY           city\n16                 LON            lon\n17                 FAX            fax\n18                 LAT            lat\n19    ALTERNATIVE_NAME       alt_name\n20  INTERNATIONAL_NAME       int_name",
      "text/html": "<div>\n<style scoped>\n    .dataframe tbody tr th:only-of-type {\n        vertical-align: middle;\n    }\n\n    .dataframe tbody tr th {\n        vertical-align: top;\n    }\n\n    .dataframe thead th {\n        text-align: right;\n    }\n</style>\n<table border=\"1\" class=\"dataframe\">\n  <thead>\n    <tr style=\"text-align: right;\">\n      <th></th>\n      <th>Ingested</th>\n      <th>Original</th>\n    </tr>\n  </thead>\n  <tbody>\n    <tr>\n      <th>0</th>\n      <td>OPENING_HOURS</td>\n      <td>opening_hours</td>\n    </tr>\n    <tr>\n      <th>1</th>\n      <td>DESCRIPTION</td>\n      <td>description</td>\n    </tr>\n    <tr>\n      <th>2</th>\n      <td>LAST_UPDATE</td>\n      <td>last_update</td>\n    </tr>\n    <tr>\n      <th>3</th>\n      <td>HOUSENUMBER</td>\n      <td>housenumber</td>\n    </tr>\n    <tr>\n      <th>4</th>\n      <td>WIKIPEDIA</td>\n      <td>wikipedia</td>\n    </tr>\n    <tr>\n      <th>5</th>\n      <td>CATEGORY</td>\n      <td>category</td>\n    </tr>\n    <tr>\n      <th>6</th>\n      <td>OPERATOR</td>\n      <td>operator</td>\n    </tr>\n    <tr>\n      <th>7</th>\n      <td>POSTCODE</td>\n      <td>postcode</td>\n    </tr>\n    <tr>\n      <th>8</th>\n      <td>WEBSITE</td>\n      <td>website</td>\n    </tr>\n    <tr>\n      <th>9</th>\n      <td>COUNTRY</td>\n      <td>country</td>\n    </tr>\n    <tr>\n      <th>10</th>\n      <td>STREET</td>\n      <td>street</td>\n    </tr>\n    <tr>\n      <th>11</th>\n      <td>PHONE</td>\n      <td>phone</td>\n    </tr>\n    <tr>\n      <th>12</th>\n      <td>EMAIL</td>\n      <td>email</td>\n    </tr>\n    <tr>\n      <th>13</th>\n      <td>IMAGE</td>\n      <td>image</td>\n    </tr>\n    <tr>\n      <th>14</th>\n      <td>NAME</td>\n      <td>name</td>\n    </tr>\n    <tr>\n      <th>15</th>\n      <td>CITY</td>\n      <td>city</td>\n    </tr>\n    <tr>\n      <th>16</th>\n      <td>LON</td>\n      <td>lon</td>\n    </tr>\n    <tr>\n      <th>17</th>\n      <td>FAX</td>\n      <td>fax</td>\n    </tr>\n    <tr>\n      <th>18</th>\n      <td>LAT</td>\n      <td>lat</td>\n    </tr>\n    <tr>\n      <th>19</th>\n      <td>ALTERNATIVE_NAME</td>\n      <td>alt_name</td>\n    </tr>\n    <tr>\n      <th>20</th>\n      <td>INTERNATIONAL_NAME</td>\n      <td>int_name</td>\n    </tr>\n  </tbody>\n</table>\n</div>"
     },
     "execution_count": 7,
     "metadata": {},
     "output_type": "execute_result"
    }
   ],
   "source": [
    "mappings"
   ],
   "metadata": {
    "collapsed": false
   }
  },
  {
   "cell_type": "markdown",
   "metadata": {},
   "source": [
    "# Semi-Automatic Ingestion\n",
    "## Read DKV_Berlin"
   ]
  },
  {
   "cell_type": "code",
   "execution_count": 8,
   "outputs": [
    {
     "data": {
      "text/plain": "{'herold_yellow_pages.yml': 1.0,\n 'osm_pois.yml': 0.78,\n 'tomtom_sm.yml': 0.67,\n 'tomtom_premium.yml': 0.56,\n 'tomtom_road.yml': 0.33,\n 'nuts.yml': 0.22}"
     },
     "execution_count": 8,
     "metadata": {},
     "output_type": "execute_result"
    }
   ],
   "source": [
    "dkv_berlin_df = pd.read_csv('DKV_Berlin.csv', sep=';')\n",
    "topio_ingest = TopioWKSIngest(threshold=0.3)\n",
    "topio_ingest.calculate_schema_similarities(dkv_berlin_df)\n",
    "topio_ingest.get_schema_similarities()"
   ],
   "metadata": {
    "collapsed": false
   }
  },
  {
   "cell_type": "code",
   "execution_count": 9,
   "metadata": {},
   "outputs": [
    {
     "data": {
      "text/plain": "      ID      NAME CATEGORY SUBCATEGORY    LON    LAT SRID INTERNATIONAL_NAME  \\\n0      1     TOTAL      NaN         NaN  13.37  52.53  NaN                NaN   \n1      2      ARAL      NaN         NaN  13.42  52.51  NaN                NaN   \n2      3  CleanCar      NaN         NaN  13.42  52.51  NaN                NaN   \n3      4       HEM      NaN         NaN  13.41  52.51  NaN                NaN   \n4      5     TOTAL      NaN         NaN  13.42  52.51  NaN                NaN   \n..   ...       ...      ...         ...    ...    ...  ...                ...   \n240  241     TOTAL      NaN         NaN  13.26  52.43  NaN                NaN   \n241  242      ESSO      NaN         NaN  13.28  52.49  NaN                NaN   \n242  243      ESSO      NaN         NaN  13.27  52.46  NaN                NaN   \n243  244      STAR      NaN         NaN  13.29  52.45  NaN                NaN   \n244  245      ARAL      NaN         NaN  13.27  52.47  NaN                NaN   \n\n    STREET WIKIPEDIA  ...  DESCRIPTION WEBSITE LAST_UPDATE OPERATOR POSTCODE  \\\n0      NaN       NaN  ...          NaN     NaN         NaN      NaN      NaN   \n1      NaN       NaN  ...          NaN     NaN         NaN      NaN      NaN   \n2      NaN       NaN  ...          NaN     NaN         NaN      NaN      NaN   \n3      NaN       NaN  ...          NaN     NaN         NaN      NaN      NaN   \n4      NaN       NaN  ...          NaN     NaN         NaN      NaN      NaN   \n..     ...       ...  ...          ...     ...         ...      ...      ...   \n240    NaN       NaN  ...          NaN     NaN         NaN      NaN      NaN   \n241    NaN       NaN  ...          NaN     NaN         NaN      NaN      NaN   \n242    NaN       NaN  ...          NaN     NaN         NaN      NaN      NaN   \n243    NaN       NaN  ...          NaN     NaN         NaN      NaN      NaN   \n244    NaN       NaN  ...          NaN     NaN         NaN      NaN      NaN   \n\n    COUNTRY  FAX IMAGE HOUSENUMBER  \\\n0       NaN  NaN   NaN         NaN   \n1       NaN  NaN   NaN         NaN   \n2       NaN  NaN   NaN         NaN   \n3       NaN  NaN   NaN         NaN   \n4       NaN  NaN   NaN         NaN   \n..      ...  ...   ...         ...   \n240     NaN  NaN   NaN         NaN   \n241     NaN  NaN   NaN         NaN   \n242     NaN  NaN   NaN         NaN   \n243     NaN  NaN   NaN         NaN   \n244     NaN  NaN   NaN         NaN   \n\n                                            OTHER_TAGS  \n0    DKV - TOTAL Station  10115 Berlin  Chausseestr...  \n1    DKV - ARAL Station  10179 Berlin  Holzmarktstr...  \n2    DKV - CleanCar Station  10179 Berlin  Holzmark...  \n3     DKV - HEM Station  10179 Berlin  Holzmarktstr. 4  \n4    DKV - TOTAL Station  10243 Berlin  Holzmarktst...  \n..                                                 ...  \n240  DKV - TOTAL Station  14169 Berlin  Berliner St...  \n241  DKV - ESSO Station  14193 Berlin  Hubertusallee 1  \n242     DKV - ESSO Station  14195 Berlin  Clayallee 90  \n243  DKV - STAR Station  14195 Berlin  Königin-Luis...  \n244  DKV - ARAL Station  14199 Berlin  Hohenzollern...  \n\n[245 rows x 25 columns]",
      "text/html": "<div>\n<style scoped>\n    .dataframe tbody tr th:only-of-type {\n        vertical-align: middle;\n    }\n\n    .dataframe tbody tr th {\n        vertical-align: top;\n    }\n\n    .dataframe thead th {\n        text-align: right;\n    }\n</style>\n<table border=\"1\" class=\"dataframe\">\n  <thead>\n    <tr style=\"text-align: right;\">\n      <th></th>\n      <th>ID</th>\n      <th>NAME</th>\n      <th>CATEGORY</th>\n      <th>SUBCATEGORY</th>\n      <th>LON</th>\n      <th>LAT</th>\n      <th>SRID</th>\n      <th>INTERNATIONAL_NAME</th>\n      <th>STREET</th>\n      <th>WIKIPEDIA</th>\n      <th>...</th>\n      <th>DESCRIPTION</th>\n      <th>WEBSITE</th>\n      <th>LAST_UPDATE</th>\n      <th>OPERATOR</th>\n      <th>POSTCODE</th>\n      <th>COUNTRY</th>\n      <th>FAX</th>\n      <th>IMAGE</th>\n      <th>HOUSENUMBER</th>\n      <th>OTHER_TAGS</th>\n    </tr>\n  </thead>\n  <tbody>\n    <tr>\n      <th>0</th>\n      <td>1</td>\n      <td>TOTAL</td>\n      <td>NaN</td>\n      <td>NaN</td>\n      <td>13.37</td>\n      <td>52.53</td>\n      <td>NaN</td>\n      <td>NaN</td>\n      <td>NaN</td>\n      <td>NaN</td>\n      <td>...</td>\n      <td>NaN</td>\n      <td>NaN</td>\n      <td>NaN</td>\n      <td>NaN</td>\n      <td>NaN</td>\n      <td>NaN</td>\n      <td>NaN</td>\n      <td>NaN</td>\n      <td>NaN</td>\n      <td>DKV - TOTAL Station  10115 Berlin  Chausseestr...</td>\n    </tr>\n    <tr>\n      <th>1</th>\n      <td>2</td>\n      <td>ARAL</td>\n      <td>NaN</td>\n      <td>NaN</td>\n      <td>13.42</td>\n      <td>52.51</td>\n      <td>NaN</td>\n      <td>NaN</td>\n      <td>NaN</td>\n      <td>NaN</td>\n      <td>...</td>\n      <td>NaN</td>\n      <td>NaN</td>\n      <td>NaN</td>\n      <td>NaN</td>\n      <td>NaN</td>\n      <td>NaN</td>\n      <td>NaN</td>\n      <td>NaN</td>\n      <td>NaN</td>\n      <td>DKV - ARAL Station  10179 Berlin  Holzmarktstr...</td>\n    </tr>\n    <tr>\n      <th>2</th>\n      <td>3</td>\n      <td>CleanCar</td>\n      <td>NaN</td>\n      <td>NaN</td>\n      <td>13.42</td>\n      <td>52.51</td>\n      <td>NaN</td>\n      <td>NaN</td>\n      <td>NaN</td>\n      <td>NaN</td>\n      <td>...</td>\n      <td>NaN</td>\n      <td>NaN</td>\n      <td>NaN</td>\n      <td>NaN</td>\n      <td>NaN</td>\n      <td>NaN</td>\n      <td>NaN</td>\n      <td>NaN</td>\n      <td>NaN</td>\n      <td>DKV - CleanCar Station  10179 Berlin  Holzmark...</td>\n    </tr>\n    <tr>\n      <th>3</th>\n      <td>4</td>\n      <td>HEM</td>\n      <td>NaN</td>\n      <td>NaN</td>\n      <td>13.41</td>\n      <td>52.51</td>\n      <td>NaN</td>\n      <td>NaN</td>\n      <td>NaN</td>\n      <td>NaN</td>\n      <td>...</td>\n      <td>NaN</td>\n      <td>NaN</td>\n      <td>NaN</td>\n      <td>NaN</td>\n      <td>NaN</td>\n      <td>NaN</td>\n      <td>NaN</td>\n      <td>NaN</td>\n      <td>NaN</td>\n      <td>DKV - HEM Station  10179 Berlin  Holzmarktstr. 4</td>\n    </tr>\n    <tr>\n      <th>4</th>\n      <td>5</td>\n      <td>TOTAL</td>\n      <td>NaN</td>\n      <td>NaN</td>\n      <td>13.42</td>\n      <td>52.51</td>\n      <td>NaN</td>\n      <td>NaN</td>\n      <td>NaN</td>\n      <td>NaN</td>\n      <td>...</td>\n      <td>NaN</td>\n      <td>NaN</td>\n      <td>NaN</td>\n      <td>NaN</td>\n      <td>NaN</td>\n      <td>NaN</td>\n      <td>NaN</td>\n      <td>NaN</td>\n      <td>NaN</td>\n      <td>DKV - TOTAL Station  10243 Berlin  Holzmarktst...</td>\n    </tr>\n    <tr>\n      <th>...</th>\n      <td>...</td>\n      <td>...</td>\n      <td>...</td>\n      <td>...</td>\n      <td>...</td>\n      <td>...</td>\n      <td>...</td>\n      <td>...</td>\n      <td>...</td>\n      <td>...</td>\n      <td>...</td>\n      <td>...</td>\n      <td>...</td>\n      <td>...</td>\n      <td>...</td>\n      <td>...</td>\n      <td>...</td>\n      <td>...</td>\n      <td>...</td>\n      <td>...</td>\n      <td>...</td>\n    </tr>\n    <tr>\n      <th>240</th>\n      <td>241</td>\n      <td>TOTAL</td>\n      <td>NaN</td>\n      <td>NaN</td>\n      <td>13.26</td>\n      <td>52.43</td>\n      <td>NaN</td>\n      <td>NaN</td>\n      <td>NaN</td>\n      <td>NaN</td>\n      <td>...</td>\n      <td>NaN</td>\n      <td>NaN</td>\n      <td>NaN</td>\n      <td>NaN</td>\n      <td>NaN</td>\n      <td>NaN</td>\n      <td>NaN</td>\n      <td>NaN</td>\n      <td>NaN</td>\n      <td>DKV - TOTAL Station  14169 Berlin  Berliner St...</td>\n    </tr>\n    <tr>\n      <th>241</th>\n      <td>242</td>\n      <td>ESSO</td>\n      <td>NaN</td>\n      <td>NaN</td>\n      <td>13.28</td>\n      <td>52.49</td>\n      <td>NaN</td>\n      <td>NaN</td>\n      <td>NaN</td>\n      <td>NaN</td>\n      <td>...</td>\n      <td>NaN</td>\n      <td>NaN</td>\n      <td>NaN</td>\n      <td>NaN</td>\n      <td>NaN</td>\n      <td>NaN</td>\n      <td>NaN</td>\n      <td>NaN</td>\n      <td>NaN</td>\n      <td>DKV - ESSO Station  14193 Berlin  Hubertusallee 1</td>\n    </tr>\n    <tr>\n      <th>242</th>\n      <td>243</td>\n      <td>ESSO</td>\n      <td>NaN</td>\n      <td>NaN</td>\n      <td>13.27</td>\n      <td>52.46</td>\n      <td>NaN</td>\n      <td>NaN</td>\n      <td>NaN</td>\n      <td>NaN</td>\n      <td>...</td>\n      <td>NaN</td>\n      <td>NaN</td>\n      <td>NaN</td>\n      <td>NaN</td>\n      <td>NaN</td>\n      <td>NaN</td>\n      <td>NaN</td>\n      <td>NaN</td>\n      <td>NaN</td>\n      <td>DKV - ESSO Station  14195 Berlin  Clayallee 90</td>\n    </tr>\n    <tr>\n      <th>243</th>\n      <td>244</td>\n      <td>STAR</td>\n      <td>NaN</td>\n      <td>NaN</td>\n      <td>13.29</td>\n      <td>52.45</td>\n      <td>NaN</td>\n      <td>NaN</td>\n      <td>NaN</td>\n      <td>NaN</td>\n      <td>...</td>\n      <td>NaN</td>\n      <td>NaN</td>\n      <td>NaN</td>\n      <td>NaN</td>\n      <td>NaN</td>\n      <td>NaN</td>\n      <td>NaN</td>\n      <td>NaN</td>\n      <td>NaN</td>\n      <td>DKV - STAR Station  14195 Berlin  Königin-Luis...</td>\n    </tr>\n    <tr>\n      <th>244</th>\n      <td>245</td>\n      <td>ARAL</td>\n      <td>NaN</td>\n      <td>NaN</td>\n      <td>13.27</td>\n      <td>52.47</td>\n      <td>NaN</td>\n      <td>NaN</td>\n      <td>NaN</td>\n      <td>NaN</td>\n      <td>...</td>\n      <td>NaN</td>\n      <td>NaN</td>\n      <td>NaN</td>\n      <td>NaN</td>\n      <td>NaN</td>\n      <td>NaN</td>\n      <td>NaN</td>\n      <td>NaN</td>\n      <td>NaN</td>\n      <td>DKV - ARAL Station  14199 Berlin  Hohenzollern...</td>\n    </tr>\n  </tbody>\n</table>\n<p>245 rows × 25 columns</p>\n</div>"
     },
     "execution_count": 9,
     "metadata": {},
     "output_type": "execute_result"
    }
   ],
   "source": [
    "ingested_df, mappings = topio_ingest.ingest_with_user_selection('osm_pois.yml')\n",
    "ingested_df"
   ]
  },
  {
   "cell_type": "markdown",
   "source": [
    "## Column Mappings"
   ],
   "metadata": {
    "collapsed": false
   }
  },
  {
   "cell_type": "code",
   "execution_count": 10,
   "outputs": [
    {
     "data": {
      "text/plain": "     Ingested  Original\n0        NAME      name\n1        CITY      city\n2         LON       lon\n3          ID        ID\n4         LAT       lat\n5  OTHER_TAGS  all_tags\n6       PHONE       zip",
      "text/html": "<div>\n<style scoped>\n    .dataframe tbody tr th:only-of-type {\n        vertical-align: middle;\n    }\n\n    .dataframe tbody tr th {\n        vertical-align: top;\n    }\n\n    .dataframe thead th {\n        text-align: right;\n    }\n</style>\n<table border=\"1\" class=\"dataframe\">\n  <thead>\n    <tr style=\"text-align: right;\">\n      <th></th>\n      <th>Ingested</th>\n      <th>Original</th>\n    </tr>\n  </thead>\n  <tbody>\n    <tr>\n      <th>0</th>\n      <td>NAME</td>\n      <td>name</td>\n    </tr>\n    <tr>\n      <th>1</th>\n      <td>CITY</td>\n      <td>city</td>\n    </tr>\n    <tr>\n      <th>2</th>\n      <td>LON</td>\n      <td>lon</td>\n    </tr>\n    <tr>\n      <th>3</th>\n      <td>ID</td>\n      <td>ID</td>\n    </tr>\n    <tr>\n      <th>4</th>\n      <td>LAT</td>\n      <td>lat</td>\n    </tr>\n    <tr>\n      <th>5</th>\n      <td>OTHER_TAGS</td>\n      <td>all_tags</td>\n    </tr>\n    <tr>\n      <th>6</th>\n      <td>PHONE</td>\n      <td>zip</td>\n    </tr>\n  </tbody>\n</table>\n</div>"
     },
     "execution_count": 10,
     "metadata": {},
     "output_type": "execute_result"
    }
   ],
   "source": [
    "mappings"
   ],
   "metadata": {
    "collapsed": false
   }
  },
  {
   "cell_type": "markdown",
   "source": [
    "# Default Ingestion"
   ],
   "metadata": {
    "collapsed": false
   }
  },
  {
   "cell_type": "code",
   "execution_count": 11,
   "outputs": [
    {
     "data": {
      "text/plain": "      ID    lon    lat                                           all_tags  \\\n0      1  13.37  52.53  DKV - TOTAL Station  10115 Berlin  Chausseestr...   \n1      2  13.42  52.51  DKV - ARAL Station  10179 Berlin  Holzmarktstr...   \n2      3  13.42  52.51  DKV - CleanCar Station  10179 Berlin  Holzmark...   \n3      4  13.41  52.51   DKV - HEM Station  10179 Berlin  Holzmarktstr. 4   \n4      5  13.42  52.51  DKV - TOTAL Station  10243 Berlin  Holzmarktst...   \n..   ...    ...    ...                                                ...   \n240  241  13.26  52.43  DKV - TOTAL Station  14169 Berlin  Berliner St...   \n241  242  13.28  52.49  DKV - ESSO Station  14193 Berlin  Hubertusallee 1   \n242  243  13.27  52.46     DKV - ESSO Station  14195 Berlin  Clayallee 90   \n243  244  13.29  52.45  DKV - STAR Station  14195 Berlin  Königin-Luis...   \n244  245  13.27  52.47  DKV - ARAL Station  14199 Berlin  Hohenzollern...   \n\n         name    zip                  address    city  \\\n0       TOTAL  10115          Chausseestr. 61  Berlin   \n1        ARAL  10179    Holzmarktstr. 12 - 14  Berlin   \n2    CleanCar  10179          Holzmarktstr. 5  Berlin   \n3         HEM  10179          Holzmarktstr. 4  Berlin   \n4       TOTAL  10243    Holzmarktstr. 36 - 42  Berlin   \n..        ...    ...                      ...     ...   \n240     TOTAL  14169       Berliner Str. 15 a  Berlin   \n241      ESSO  14193          Hubertusallee 1  Berlin   \n242      ESSO  14195             Clayallee 90  Berlin   \n243      STAR  14195  Königin-Luise-Str. 22 a  Berlin   \n244      ARAL  14199      Hohenzollerndamm 97  Berlin   \n\n                              WKT  \n0    POINT(13.3752222 52.5370079)  \n1    POINT(13.4218919 52.5140381)  \n2       POINT(13.420068 52.51453)  \n3      POINT(13.419633 52.514823)  \n4    POINT(13.4283684 52.5113173)  \n..                            ...  \n240  POINT(13.2656562 52.4359571)  \n241    POINT(13.284873 52.494197)  \n242    POINT(13.275345 52.460752)  \n243  POINT(13.2977727 52.4575506)  \n244  POINT(13.2792565 52.4758463)  \n\n[245 rows x 9 columns]",
      "text/html": "<div>\n<style scoped>\n    .dataframe tbody tr th:only-of-type {\n        vertical-align: middle;\n    }\n\n    .dataframe tbody tr th {\n        vertical-align: top;\n    }\n\n    .dataframe thead th {\n        text-align: right;\n    }\n</style>\n<table border=\"1\" class=\"dataframe\">\n  <thead>\n    <tr style=\"text-align: right;\">\n      <th></th>\n      <th>ID</th>\n      <th>lon</th>\n      <th>lat</th>\n      <th>all_tags</th>\n      <th>name</th>\n      <th>zip</th>\n      <th>address</th>\n      <th>city</th>\n      <th>WKT</th>\n    </tr>\n  </thead>\n  <tbody>\n    <tr>\n      <th>0</th>\n      <td>1</td>\n      <td>13.37</td>\n      <td>52.53</td>\n      <td>DKV - TOTAL Station  10115 Berlin  Chausseestr...</td>\n      <td>TOTAL</td>\n      <td>10115</td>\n      <td>Chausseestr. 61</td>\n      <td>Berlin</td>\n      <td>POINT(13.3752222 52.5370079)</td>\n    </tr>\n    <tr>\n      <th>1</th>\n      <td>2</td>\n      <td>13.42</td>\n      <td>52.51</td>\n      <td>DKV - ARAL Station  10179 Berlin  Holzmarktstr...</td>\n      <td>ARAL</td>\n      <td>10179</td>\n      <td>Holzmarktstr. 12 - 14</td>\n      <td>Berlin</td>\n      <td>POINT(13.4218919 52.5140381)</td>\n    </tr>\n    <tr>\n      <th>2</th>\n      <td>3</td>\n      <td>13.42</td>\n      <td>52.51</td>\n      <td>DKV - CleanCar Station  10179 Berlin  Holzmark...</td>\n      <td>CleanCar</td>\n      <td>10179</td>\n      <td>Holzmarktstr. 5</td>\n      <td>Berlin</td>\n      <td>POINT(13.420068 52.51453)</td>\n    </tr>\n    <tr>\n      <th>3</th>\n      <td>4</td>\n      <td>13.41</td>\n      <td>52.51</td>\n      <td>DKV - HEM Station  10179 Berlin  Holzmarktstr. 4</td>\n      <td>HEM</td>\n      <td>10179</td>\n      <td>Holzmarktstr. 4</td>\n      <td>Berlin</td>\n      <td>POINT(13.419633 52.514823)</td>\n    </tr>\n    <tr>\n      <th>4</th>\n      <td>5</td>\n      <td>13.42</td>\n      <td>52.51</td>\n      <td>DKV - TOTAL Station  10243 Berlin  Holzmarktst...</td>\n      <td>TOTAL</td>\n      <td>10243</td>\n      <td>Holzmarktstr. 36 - 42</td>\n      <td>Berlin</td>\n      <td>POINT(13.4283684 52.5113173)</td>\n    </tr>\n    <tr>\n      <th>...</th>\n      <td>...</td>\n      <td>...</td>\n      <td>...</td>\n      <td>...</td>\n      <td>...</td>\n      <td>...</td>\n      <td>...</td>\n      <td>...</td>\n      <td>...</td>\n    </tr>\n    <tr>\n      <th>240</th>\n      <td>241</td>\n      <td>13.26</td>\n      <td>52.43</td>\n      <td>DKV - TOTAL Station  14169 Berlin  Berliner St...</td>\n      <td>TOTAL</td>\n      <td>14169</td>\n      <td>Berliner Str. 15 a</td>\n      <td>Berlin</td>\n      <td>POINT(13.2656562 52.4359571)</td>\n    </tr>\n    <tr>\n      <th>241</th>\n      <td>242</td>\n      <td>13.28</td>\n      <td>52.49</td>\n      <td>DKV - ESSO Station  14193 Berlin  Hubertusallee 1</td>\n      <td>ESSO</td>\n      <td>14193</td>\n      <td>Hubertusallee 1</td>\n      <td>Berlin</td>\n      <td>POINT(13.284873 52.494197)</td>\n    </tr>\n    <tr>\n      <th>242</th>\n      <td>243</td>\n      <td>13.27</td>\n      <td>52.46</td>\n      <td>DKV - ESSO Station  14195 Berlin  Clayallee 90</td>\n      <td>ESSO</td>\n      <td>14195</td>\n      <td>Clayallee 90</td>\n      <td>Berlin</td>\n      <td>POINT(13.275345 52.460752)</td>\n    </tr>\n    <tr>\n      <th>243</th>\n      <td>244</td>\n      <td>13.29</td>\n      <td>52.45</td>\n      <td>DKV - STAR Station  14195 Berlin  Königin-Luis...</td>\n      <td>STAR</td>\n      <td>14195</td>\n      <td>Königin-Luise-Str. 22 a</td>\n      <td>Berlin</td>\n      <td>POINT(13.2977727 52.4575506)</td>\n    </tr>\n    <tr>\n      <th>244</th>\n      <td>245</td>\n      <td>13.27</td>\n      <td>52.47</td>\n      <td>DKV - ARAL Station  14199 Berlin  Hohenzollern...</td>\n      <td>ARAL</td>\n      <td>14199</td>\n      <td>Hohenzollerndamm 97</td>\n      <td>Berlin</td>\n      <td>POINT(13.2792565 52.4758463)</td>\n    </tr>\n  </tbody>\n</table>\n<p>245 rows × 9 columns</p>\n</div>"
     },
     "execution_count": 11,
     "metadata": {},
     "output_type": "execute_result"
    }
   ],
   "source": [
    "ingested_df = topio_ingest.ingest_default()\n",
    "ingested_df"
   ],
   "metadata": {
    "collapsed": false
   }
  }
 ],
 "metadata": {
  "kernelspec": {
   "display_name": "Python 3 (ipykernel)",
   "language": "python",
   "name": "python3"
  },
  "language_info": {
   "codemirror_mode": {
    "name": "ipython",
    "version": 3
   },
   "file_extension": ".py",
   "mimetype": "text/x-python",
   "name": "python",
   "nbconvert_exporter": "python",
   "pygments_lexer": "ipython3",
   "version": "3.8.13"
  }
 },
 "nbformat": 4,
 "nbformat_minor": 1
}
